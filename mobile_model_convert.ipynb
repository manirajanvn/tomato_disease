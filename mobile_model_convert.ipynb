{
 "cells": [
  {
   "cell_type": "code",
   "execution_count": 1,
   "id": "8b91fd39",
   "metadata": {},
   "outputs": [],
   "source": [
    "import torch\n",
    "import torchvision\n",
    "from torch.utils.mobile_optimizer import optimize_for_mobile"
   ]
  },
  {
   "cell_type": "code",
   "execution_count": 2,
   "id": "56c61e3e",
   "metadata": {},
   "outputs": [],
   "source": [
    "from fastai.vision.all import * "
   ]
  },
  {
   "cell_type": "code",
   "execution_count": null,
   "id": "e6aa85b5",
   "metadata": {},
   "outputs": [],
   "source": []
  },
  {
   "cell_type": "code",
   "execution_count": 3,
   "id": "378b9084",
   "metadata": {},
   "outputs": [],
   "source": [
    "learn = load_learner('tomato_disease_1.pkl')"
   ]
  },
  {
   "cell_type": "code",
   "execution_count": 4,
   "id": "8a61ae6b",
   "metadata": {},
   "outputs": [
    {
     "name": "stderr",
     "output_type": "stream",
     "text": [
      "C:\\Users\\manir\\anaconda3\\envs\\fastai\\lib\\site-packages\\torch\\overrides.py:1355: UserWarning: Implicit dimension choice for softmax has been deprecated. Change the call to include dim=X as an argument.\n",
      "  result = torch_func_method(public_api, types, args, kwargs)\n"
     ]
    }
   ],
   "source": [
    "\n",
    "final_model = nn.Sequential(learn.model,nn.Softmax()).to('cpu')\n",
    "\n",
    "final_model.eval()\n",
    "example = torch.rand(1, 3, 224, 224).cpu()\n",
    "traced_script_module = torch.jit.trace(final_model, example)\n",
    "traced_script_module_optimized = optimize_for_mobile(traced_script_module)\n",
    "traced_script_module_optimized._save_for_lite_interpreter(\"./tomato_mobile.ptl\")"
   ]
  },
  {
   "cell_type": "code",
   "execution_count": 6,
   "id": "a698104e",
   "metadata": {},
   "outputs": [
    {
     "data": {
      "text/plain": [
       "'1.10.2+cpu'"
      ]
     },
     "execution_count": 6,
     "metadata": {},
     "output_type": "execute_result"
    }
   ],
   "source": [
    "torch.__version__"
   ]
  },
  {
   "cell_type": "code",
   "execution_count": null,
   "id": "166915c2",
   "metadata": {},
   "outputs": [],
   "source": []
  }
 ],
 "metadata": {
  "kernelspec": {
   "display_name": "Python 3 (ipykernel)",
   "language": "python",
   "name": "python3"
  },
  "language_info": {
   "codemirror_mode": {
    "name": "ipython",
    "version": 3
   },
   "file_extension": ".py",
   "mimetype": "text/x-python",
   "name": "python",
   "nbconvert_exporter": "python",
   "pygments_lexer": "ipython3",
   "version": "3.9.7"
  }
 },
 "nbformat": 4,
 "nbformat_minor": 5
}
